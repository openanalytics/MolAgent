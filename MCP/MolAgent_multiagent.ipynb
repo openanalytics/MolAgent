{
 "cells": [
  {
   "cell_type": "code",
   "execution_count": null,
   "id": "f730bc71-6342-4a12-a11b-1193db6eca80",
   "metadata": {},
   "outputs": [],
   "source": [
    "import os\n",
    "from dotenv import load_dotenv\n",
    "\n",
    "# Load environment variables from the .env file (if present)\n",
    "load_dotenv()\n",
    "\n",
    "from Tools.evaluation_tools import read_json_file, load_automol_model, guide_prompt, automol_predict, write_to_file\n",
    "from agents import get_data_agent, get_mcp_model_agent, AUTHORIZED_IMPORTS\n",
    "from mcp_server.manage_mcp_tools import MCPServerControl\n",
    "\n",
    "from smolagents import (\n",
    "    CodeAgent,\n",
    "    LiteLLMModel,\n",
    "    ToolCollection\n",
    ")\n",
    "\n",
    "#gemini\n",
    "#model = OpenAIServerModel(\n",
    "#    model_id=\"gemini-2.5-pro-exp-03-25\",\n",
    "#    api_base=\"https://generativelanguage.googleapis.com/v1beta/openai/\",\n",
    "#    api_key=os.environ[\"GEMINI_API_KEY\"],\n",
    "#    temperature=0.2\n",
    "#)\n",
    "\n",
    "#ollama\n",
    "#model = LiteLLMModel(\n",
    "#  model_id='ollama_chat/granite3.2:8b-instruct-q4_K_M'\n",
    "#)\n",
    "\n",
    "#claude\n",
    "#3.5 does not provide sdf file to training agent, 3.7 does\n",
    "#model = LiteLLMModel(\"claude-3-7-sonnet-20250219\", temperature=0.2)\n",
    "#model = LiteLLMModel(\"claude-3-5-haiku-20241022\", temperature=0.2)\n",
    "\n",
    "#openrouter\n",
    "#model = LiteLLMModel(\"openrouter/qwen/qwen3-235b-a22b:free\", temperature=0.2)\n",
    "model = LiteLLMModel(\"openrouter/meta-llama/llama-4-maverick\", temperature=0.2)\n",
    "#model = LiteLLMModel(\"openrouter/anthropic/claude-3.7-sonnet\", temperature=0.2)\n",
    "#model = LiteLLMModel(\"openrouter/anthropic/claude-3.5-haiku\", temperature=0.2)\n",
    "#model = LiteLLMModel(\"openrouter/qwen/qwen3-30b-a3b:free\", temperature=0.2)\n",
    "\n",
    "#opening mcp server mcp_control, don't forget to close (see end of notebook)\n",
    "mcp_control=MCPServerControl(['http://127.0.0.1:8000/sse'])\n",
    "mcp_data_tools=mcp_control.get_tools()\n",
    "\n",
    "#opening mcp server mcp_model_control, don't forget to close (see end of notebook)\n",
    "mcp_model_control=MCPServerControl(['http://127.0.0.1:8001/sse'])\n",
    "mcp_model_tools=mcp_model_control.get_tools()"
   ]
  },
  {
   "cell_type": "code",
   "execution_count": null,
   "id": "76683db0-fada-4657-83f3-871ec9289eb0",
   "metadata": {},
   "outputs": [],
   "source": [
    "manager_agent = CodeAgent(\n",
    "    tools=[read_json_file, write_to_file, load_automol_model, automol_predict],\n",
    "    model=model,\n",
    "    max_steps=10,\n",
    "    managed_agents=[get_data_agent(model,mcp_data_tools), get_mcp_model_agent(model,mcp_model_tools)],\n",
    "    additional_authorized_imports=AUTHORIZED_IMPORTS,\n",
    "    add_base_tools=True\n",
    ")"
   ]
  },
  {
   "cell_type": "code",
   "execution_count": null,
   "id": "f3f681f6-1a4b-4745-8038-ee9efbdf937e",
   "metadata": {},
   "outputs": [],
   "source": [
    "def display_gen_output(output):\n",
    "    if isinstance(output,dict):\n",
    "        for key,item in output.items():\n",
    "            print(item)\n",
    "    else:\n",
    "        print(output)"
   ]
  },
  {
   "cell_type": "code",
   "execution_count": null,
   "id": "d5b9a104-306a-480b-95a2-eacfa5f42444",
   "metadata": {},
   "outputs": [],
   "source": [
    "output=manager_agent.run(\n",
    "    guide_prompt(), additional_args={'user_prompt': 'Can you train a classification model for Caco2_Wang from the therapeutic data commons (tdc)? '}\n",
    ")\n",
    "display_gen_output(output)"
   ]
  },
  {
   "cell_type": "code",
   "execution_count": null,
   "id": "620c5d2d-6ae6-4fd5-b8d2-8d9e4da66cb4",
   "metadata": {},
   "outputs": [],
   "source": [
    "output=manager_agent.run(\n",
    "    guide_prompt(), additional_args={'user_prompt': \"\"\"Can you predict the properties using automol model located in automol_example_model.pt\n",
    "    using the smiles from in the column smiles in ../Data/ChEMBL_SMILES.csv? and save as a new csv. No need to create any plots\"\"\"}\n",
    ")\n",
    "display_gen_output(output)"
   ]
  },
  {
   "cell_type": "code",
   "execution_count": null,
   "id": "ba49ac33-6a62-4241-997d-7d54b3eea459",
   "metadata": {},
   "outputs": [],
   "source": [
    "output=manager_agent.run(\n",
    "    guide_prompt(), additional_args={'user_prompt': 'Can you train a model for prop1 in ../Data/ChEMBL_SMILES.csv?'}\n",
    ")\n",
    "display_gen_output(output)"
   ]
  },
  {
   "cell_type": "code",
   "execution_count": null,
   "id": "32754ade-990c-4120-8644-c01c61ae7f98",
   "metadata": {},
   "outputs": [],
   "source": [
    "output=manager_agent.run(\n",
    "    guide_prompt(), additional_args={'user_prompt': \"\"\"Can you train a regression model using automol for the data set named Caco2_Wang using the provided validation set from the therapeutic data commons (tdc)\n",
    "     with the smiles in column Drug and the target in column Y with the smallest execution time. Train 5 models with different combinations of used features. \n",
    "     Use the following features to select from: Bottleneck, rdkit, fps_1024_2 and maccs.\n",
    "     Can you additionaly create a scatter plot with the predicted values of the y-axis and the true values on the x-axis for the 5 combinations of selected features?\"\"\"}\n",
    ")\n",
    "display_gen_output(output)"
   ]
  },
  {
   "cell_type": "code",
   "execution_count": null,
   "id": "365c9c0b-e1a0-453e-a520-82516696c0c2",
   "metadata": {},
   "outputs": [],
   "source": [
    "output=manager_agent.run(\n",
    "    guide_prompt(), additional_args={'user_prompt':  \"\"\"Can you train a regression model using automol for the csv file in ../Data/ChEMBL_SMILES.csv with the smiles in column smiles and the target in column prop1 with the smallest execution time. \n",
    "    Can you additionally add column prop2 as property feature for the blender during training.  Firstly remove rows with nan values for prop1 and prop2 from the data file. \n",
    "    Divide the data before training 5 models with different combinations of used features. \n",
    "     Use the following features to select from: Bottleneck, rdkit, fps_1024_2 and maccs.\n",
    "     Can you additionaly create a scatter plot with the predicted values of the y-axis and the true values on the x-axis for the 5 combinations of selected features?\"\"\"}\n",
    ")\n",
    "display_gen_output(output)"
   ]
  },
  {
   "cell_type": "code",
   "execution_count": null,
   "id": "d848b3f7-1d2d-4276-8f16-a2fd11af4d19",
   "metadata": {},
   "outputs": [],
   "source": [
    "output=manager_agent.run(\n",
    "    guide_prompt(), additional_args={'user_prompt': \"\"\"Can you train a classification model using automol for the csv file in ../Data/ChEMBL_SMILES.csv with the smiles in column smiles and the target in column prop5 with the smallest execution time.\n",
    "    The target is already categorical. Firstly remove rows with nan values for prop5 from the data file. \n",
    "    Divide the data before training 5 models with different combinations of used features. \n",
    "     Use the following features to select from: Bottleneck, rdkit, fps_1024_2 and maccs.\n",
    "     Can you additionaly create a confusion matrix plots for the 5 combinations of selected features?\"\"\"}\n",
    ")\n",
    "display_gen_output(output)"
   ]
  },
  {
   "cell_type": "code",
   "execution_count": null,
   "id": "800bacd6-625f-4570-9d79-c478e327e0ae",
   "metadata": {},
   "outputs": [],
   "source": [
    "#model = LiteLLMModel(\"claude-3-7-sonnet-20250219\", temperature=0.2)\n",
    "model = LiteLLMModel(\"claude-3-5-haiku-20241022\", temperature=0.2)\n",
    "\n",
    "manager_agent = CodeAgent(\n",
    "    tools=[read_json_file,write_to_file, load_automol_model, automol_predict],\n",
    "    model=model,\n",
    "    max_steps=10,\n",
    "    managed_agents=[get_data_agent(model,mcp_data_tools), get_mcp_model_agent(model,mcp_model_tools)],\n",
    "    additional_authorized_imports=AUTHORIZED_IMPORTS,\n",
    "    add_base_tools=True\n",
    ")"
   ]
  },
  {
   "cell_type": "code",
   "execution_count": null,
   "id": "a0c3590c-088c-4da2-9048-2196139d9b04",
   "metadata": {},
   "outputs": [],
   "source": [
    "output=manager_agent.run(\n",
    "    guide_prompt(), additional_args={'user_prompt': \"\"\"Can you train a regression model using automol for the data set named ABL, with the sdf_file located in ../Data/manuscript_data/ABL/Selected_dockings.sdf and the pdb folder in ../Data/manuscript_data/ABL/pdbs?\n",
    "     The target I am interesed in is pChEMBL, use the smallest execution time. Train 5 models with different combinations of used features. \n",
    "     Use the following features to select from: Bottleneck, rdkit, fps_1024_2, prolif and maccs.\n",
    "     Can you additionaly create a scatter plot with the predicted values of the y-axis and the true values on the x-axis for the 5 combinations of selected features?\"\"\"}\n",
    ")\n",
    "display_gen_output(output)"
   ]
  },
  {
   "cell_type": "code",
   "execution_count": null,
   "id": "605510bd-bd55-474a-95c6-ce481d78488b",
   "metadata": {},
   "outputs": [],
   "source": [
    "output=manager_agent.run(\n",
    "    guide_prompt(), additional_args={'user_prompt': \"\"\"Can you train a classification model using automol for the data set named ABL, with the sdf_file located in ../Data/manuscript_data/ABL/Selected_dockings.sdf and the pdb folder in ../Data/manuscript_data/ABL/pdbs?\n",
    "     The target I am interesed in is pChEMBL, use the smallest execution time. Train 5 models with different combinations of used features. \n",
    "     The target is continuous and needs to be divide in two classes, use the threshold 7. Firstly remove rows with nan values for the target from the data file. \n",
    "     Divide the data before training 5 models with different combinations of used features, include prolif atleast once. \n",
    "     Use the following features to select from: Bottleneck, rdkit, fps_1024_2, prolif with all interactions and maccs.\n",
    "     Can you additionaly create a confusion matrix plots for the 5 combinations of selected features?\"\"\"}\n",
    ")\n",
    "display_gen_output(output)"
   ]
  },
  {
   "cell_type": "code",
   "execution_count": null,
   "id": "d9931ea9-462d-467a-8fc1-c9714e89b209",
   "metadata": {},
   "outputs": [],
   "source": [
    "mcp_control.close()\n",
    "mcp_model_control.close()"
   ]
  },
  {
   "cell_type": "code",
   "execution_count": null,
   "id": "2e74ca27-022d-4687-9058-e989c9493fe9",
   "metadata": {},
   "outputs": [],
   "source": []
  }
 ],
 "metadata": {
  "kernelspec": {
   "display_name": "Python 3 (ipykernel)",
   "language": "python",
   "name": "python3"
  },
  "language_info": {
   "codemirror_mode": {
    "name": "ipython",
    "version": 3
   },
   "file_extension": ".py",
   "mimetype": "text/x-python",
   "name": "python",
   "nbconvert_exporter": "python",
   "pygments_lexer": "ipython3",
   "version": "3.12.1"
  }
 },
 "nbformat": 4,
 "nbformat_minor": 5
}
