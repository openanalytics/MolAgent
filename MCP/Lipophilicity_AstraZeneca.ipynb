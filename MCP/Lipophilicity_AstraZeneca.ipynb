{
 "cells": [
  {
   "cell_type": "code",
   "execution_count": null,
   "id": "f730bc71-6342-4a12-a11b-1193db6eca80",
   "metadata": {},
   "outputs": [],
   "source": [
    "import os\n",
    "from dotenv import load_dotenv\n",
    "from smolagents import GradioUI \n",
    "\n",
    "# Load environment variables from the .env file (if present)\n",
    "load_dotenv()\n",
    "\n",
    "from Tools.evaluation_tools import read_json_file, load_automol_model, guide_prompt, automol_predict, write_to_file, wait_for_llm_rate\n",
    "from agents import get_data_agent, get_mcp_model_agent, AUTHORIZED_IMPORTS\n",
    "from mcp_server.manage_mcp_tools import MCPServerControl\n",
    "\n",
    "from smolagents import (\n",
    "    CodeAgent,\n",
    "    LiteLLMModel,\n",
    "    ToolCollection\n",
    ")\n",
    "\n",
    "#gemini\n",
    "#model = OpenAIServerModel(\n",
    "#    model_id=\"gemini-2.5-pro-exp-03-25\",\n",
    "#    api_base=\"https://generativelanguage.googleapis.com/v1beta/openai/\",\n",
    "#    api_key=os.environ[\"GEMINI_API_KEY\"],\n",
    "#    temperature=0.2\n",
    "#)\n",
    "\n",
    "#ollama\n",
    "#model = LiteLLMModel(\n",
    "#  model_id='ollama_chat/granite3.2:8b-instruct-q4_K_M'\n",
    "#)\n",
    "\n",
    "#claude\n",
    "#3.5 does not provide sdf file to training agent, 3.7 does\n",
    "#model = LiteLLMModel(\"claude-3-7-sonnet-20250219\", temperature=0.2)\n",
    "#model = LiteLLMModel(\"claude-3-5-haiku-20241022\", temperature=0.2)\n",
    "\n",
    "#openrouter\n",
    "#model = LiteLLMModel(\"openrouter/qwen/qwen3-235b-a22b:free\", temperature=0.2)\n",
    "model = LiteLLMModel(\"openrouter/meta-llama/llama-4-maverick\", temperature=0.2)\n",
    "#model = LiteLLMModel(\"openrouter/anthropic/claude-3.7-sonnet\", temperature=0.2)\n",
    "#model = LiteLLMModel(\"openrouter/anthropic/claude-3.5-haiku\", temperature=0.2)\n",
    "#model = LiteLLMModel(\"openrouter/qwen/qwen3-30b-a3b:free\", temperature=0.2)\n",
    "\n",
    "#opening mcp server mcp_control, don't forget to close (see end of notebook)\n",
    "mcp_control=MCPServerControl(['http://127.0.0.1:8000/sse'])\n",
    "mcp_data_tools=mcp_control.get_tools()\n",
    "\n",
    "#opening mcp server mcp_model_control, don't forget to close (see end of notebook)\n",
    "mcp_model_control=MCPServerControl(['http://127.0.0.1:8001/sse'])\n",
    "mcp_model_tools=mcp_model_control.get_tools()"
   ]
  },
  {
   "cell_type": "code",
   "execution_count": null,
   "id": "6d44d5bf-3a00-4f43-aaea-10f978b749e4",
   "metadata": {},
   "outputs": [],
   "source": [
    "manager_agent = CodeAgent(\n",
    "    tools=[read_json_file, write_to_file, load_automol_model, automol_predict, wait_for_llm_rate],\n",
    "    model=model,\n",
    "    max_steps=10,\n",
    "    managed_agents=[get_data_agent(model,mcp_data_tools), get_mcp_model_agent(model,mcp_model_tools)],\n",
    "    description=guide_prompt(),\n",
    "    additional_authorized_imports=AUTHORIZED_IMPORTS,\n",
    "    add_base_tools=True\n",
    ")"
   ]
  },
  {
   "cell_type": "code",
   "execution_count": null,
   "id": "04664d43-e557-4619-a65b-0d7016ca38ca",
   "metadata": {},
   "outputs": [],
   "source": [
    "#Can you train a regression model for Lipophilicity using public resources using the fastest model and bottleneck features? First make a plan and display the plan.\n",
    "GradioUI(manager_agent).launch(pwa=True)"
   ]
  },
  {
   "cell_type": "markdown",
   "id": "9d3355e8-d5e1-4e10-8c16-e7b563137af9",
   "metadata": {},
   "source": [
    "def display_gen_output(output):\n",
    "    if isinstance(output,dict):\n",
    "        for key,item in output.items():\n",
    "            print(item)\n",
    "    else:\n",
    "        print(output)"
   ]
  },
  {
   "cell_type": "markdown",
   "id": "01ef7716-32a0-40b0-b689-16a82eb9f5dd",
   "metadata": {},
   "source": [
    "output=manager_agent.run(\n",
    "    guide_prompt(), additional_args={'user_prompt': 'Can you train a regression model for Lipophilicity using public resources using the fastest model and bottleneck features? First make a plan and display the plan. '}\n",
    ")\n",
    "display_gen_output(output)"
   ]
  },
  {
   "cell_type": "code",
   "execution_count": null,
   "id": "d9931ea9-462d-467a-8fc1-c9714e89b209",
   "metadata": {},
   "outputs": [],
   "source": [
    "mcp_control.close()\n",
    "mcp_model_control.close()"
   ]
  }
 ],
 "metadata": {
  "kernelspec": {
   "display_name": "Python 3 (ipykernel)",
   "language": "python",
   "name": "python3"
  },
  "language_info": {
   "codemirror_mode": {
    "name": "ipython",
    "version": 3
   },
   "file_extension": ".py",
   "mimetype": "text/x-python",
   "name": "python",
   "nbconvert_exporter": "python",
   "pygments_lexer": "ipython3",
   "version": "3.12.1"
  }
 },
 "nbformat": 4,
 "nbformat_minor": 5
}
